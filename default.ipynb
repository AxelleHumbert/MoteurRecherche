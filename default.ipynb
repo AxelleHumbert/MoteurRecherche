{
 "cells": [
  {
   "cell_type": "code",
   "execution_count": null,
   "metadata": {},
   "outputs": [],
   "source": [
    "import numpy as np\n",
    "import skimage\n",
    "import matplotlib.pyplot as plt\n",
    "import skimage\n",
    "\n",
    "from skimage.feature import hog\n",
    "from skimage import data, exposure\n",
    "from skimage.exposure import histogram\n",
    "from skimage.feature import match_template\n",
    "from skimage.transform import rescale\n",
    "from skimage.util import random_noise\n",
    "from scipy.signal import correlate2d\n",
    "from skimage import io\n",
    "from skimage.transform import resize\n",
    "\n",
    "size = 256\n",
    "\n",
    "cats = [resize(io.imread(f\"animals/cats/cats_0000{idx}.jpg\"), (size, size)) for idx in range(1,6)]\n",
    "dogs = [resize(io.imread(f\"animals/dogs/dogs_0000{idx}.jpg\"), (size, size)) for idx in range(1,6)]\n",
    "pandas = [resize(io.imread(f\"animals/pandas/panda_0000{idx}.jpg\"), (size, size)) for idx in range(1,6)]\n",
    "images = cats + dogs + pandas\n",
    "\n",
    "fig, axes = plt.subplots(nrows=1, ncols=2, figsize=(12, 6))\n",
    "axes[0].imshow(cats[0]) and axes[0].axis('off')\n",
    "axes[1].imshow(dogs[0]) and axes[1].axis('off')\n",
    "axes[1].imshow(pandas[0]) and axes[1].axis('off')\n",
    "\n",
    "plt.show()\n",
    "\n",
    "cats_hog = [hog(img, orientations=8, pixels_per_cell=(16, 16),\n",
    "                    cells_per_block=(1, 1), channel_axis=2) for img in cats]\n",
    "dogs_hog = [hog(img, orientations=8, pixels_per_cell=(16, 16),\n",
    "                    cells_per_block=(1, 1), channel_axis=2) for img in dogs]\n",
    "pandas_hog = [hog(img, orientations=8, pixels_per_cell=(16, 16),\n",
    "                    cells_per_block=(1, 1), channel_axis=2) for img in pandas]\n",
    "\n",
    "# étiquettes (1 pour les vélos, 2 pour les voitures)\n",
    "cats_labels = 1 * np.ones((len(cats_hog), ))\n",
    "dogs_labels = 2 * np.ones((len(dogs_hog), ))\n",
    "pandas_labels = 3 * np.ones((len(pandas_hog), ))\n"
   ]
  },
  {
   "cell_type": "markdown",
   "metadata": {},
   "source": []
  }
 ],
 "metadata": {
  "language_info": {
   "name": "python"
  },
  "orig_nbformat": 4
 },
 "nbformat": 4,
 "nbformat_minor": 2
}
